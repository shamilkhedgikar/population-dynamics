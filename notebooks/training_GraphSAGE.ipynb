{
 "cells": [
  {
   "cell_type": "code",
   "execution_count": 184,
   "id": "1e6fb4ba",
   "metadata": {},
   "outputs": [],
   "source": [
    "import pandas as pd\n",
    "import geopandas as gpd\n",
    "import networkx as nx\n",
    "import pyogrio\n",
    "import pyvis.network as py_network\n",
    "from collections import Counter\n",
    "import plotly.graph_objects as go\n",
    "import pickle\n",
    "import torch\n",
    "import torch.nn.functional as F\n",
    "import torch.nn as nn\n",
    "#from torch.nn import Module\n",
    "from torch_geometric.nn import SAGEConv\n",
    "from torch_geometric.utils import from_networkx\n",
    "import matplotlib.pyplot as plt\n",
    "from itertools import product\n",
    "import json\n",
    "from sklearn.linear_model import Ridge\n",
    "from sklearn.metrics import r2_score\n",
    "import pandas as pd\n",
    "import numpy as np\n",
    "from torch.utils.data import DataLoader, TensorDataset\n",
    "from collections import defaultdict"
   ]
  },
  {
   "cell_type": "code",
   "execution_count": 2,
   "id": "c58e1079",
   "metadata": {},
   "outputs": [],
   "source": [
    "gdf_counties = gpd.read_file(\"../data/pdfm_embeddings/v0/us/county.geojson\", engine = \"pyogrio\")\n",
    "gdf_zip = gpd.read_file(\"../data/pdfm_embeddings/v0/us/zcta.geojson\", engine= \"pyogrio\")\n",
    "gdf_dc_blocks = gpd.read_file(\"../data/pdfm_embeddings/v0/us/ScenarioPaint.geojson\", engine=\"pyogrio\")"
   ]
  },
  {
   "cell_type": "code",
   "execution_count": 3,
   "id": "08790760",
   "metadata": {},
   "outputs": [],
   "source": [
    "common_crs = gdf_counties.crs\n",
    "gdf_zip = gdf_zip.to_crs(common_crs)\n",
    "gdf_dc_blocks = gdf_dc_blocks.to_crs(common_crs)"
   ]
  },
  {
   "cell_type": "code",
   "execution_count": 4,
   "id": "8fd3275a",
   "metadata": {},
   "outputs": [
    {
     "name": "stderr",
     "output_type": "stream",
     "text": [
      "C:\\Users\\KhedgikarS\\AppData\\Local\\Temp\\ipykernel_43540\\395651258.py:1: UserWarning: Geometry is in a geographic CRS. Results from 'centroid' are likely incorrect. Use 'GeoSeries.to_crs()' to re-project geometries to a projected CRS before this operation.\n",
      "\n",
      "  gdf_zip['geometry_centroid'] = gdf_zip.geometry.centroid\n",
      "C:\\Users\\KhedgikarS\\AppData\\Local\\Temp\\ipykernel_43540\\395651258.py:2: UserWarning: Geometry is in a geographic CRS. Results from 'centroid' are likely incorrect. Use 'GeoSeries.to_crs()' to re-project geometries to a projected CRS before this operation.\n",
      "\n",
      "  gdf_dc_blocks['geometry_centroid'] = gdf_dc_blocks.geometry.centroid\n"
     ]
    }
   ],
   "source": [
    "gdf_zip['geometry_centroid'] = gdf_zip.geometry.centroid\n",
    "gdf_dc_blocks['geometry_centroid'] = gdf_dc_blocks.geometry.centroid"
   ]
  },
  {
   "cell_type": "code",
   "execution_count": 5,
   "id": "e805397c",
   "metadata": {},
   "outputs": [],
   "source": [
    "gdf_counties = gdf_counties.rename(columns = {'place':'place_county'})\n",
    "gdf_counties = gdf_counties.drop(columns = ['index'])\n",
    "gdf_zip = gdf_zip.rename(columns = {'place':'place_zip'})\n",
    "gdf_zip = gdf_zip.drop(columns = ['index'])"
   ]
  },
  {
   "cell_type": "code",
   "execution_count": 6,
   "id": "b622f1ee",
   "metadata": {},
   "outputs": [],
   "source": [
    "zip_in_county = gpd.sjoin(gdf_zip.set_geometry('geometry_centroid'),gdf_counties, predicate='within')[['place_county','place_zip']]\n",
    "block_in_zip = gpd.sjoin(gdf_dc_blocks.set_geometry('geometry_centroid'),gdf_zip, predicate='within')[['Identifier','place_zip']]"
   ]
  },
  {
   "cell_type": "code",
   "execution_count": null,
   "id": "50958092",
   "metadata": {},
   "outputs": [],
   "source": [
    "zip_in_county"
   ]
  },
  {
   "cell_type": "code",
   "execution_count": null,
   "id": "1e324507",
   "metadata": {},
   "outputs": [],
   "source": [
    "block_in_zip"
   ]
  },
  {
   "cell_type": "markdown",
   "id": "d0cfec14",
   "metadata": {},
   "source": [
    "#### Initialize Graph"
   ]
  },
  {
   "cell_type": "code",
   "execution_count": 7,
   "id": "7e7a1df6",
   "metadata": {},
   "outputs": [],
   "source": [
    "G = nx.Graph()"
   ]
  },
  {
   "cell_type": "code",
   "execution_count": 8,
   "id": "665898d1",
   "metadata": {},
   "outputs": [],
   "source": [
    "for cid in gdf_counties['place_county']:\n",
    "    G.add_node(f\"county_{cid}\", type='county')\n",
    "\n",
    "for zid in gdf_zip['place_zip']:\n",
    "    G.add_node(f\"zip_{zid}\", type='zip')\n",
    "    \n",
    "for bid in gdf_dc_blocks['Identifier']:\n",
    "    block_id = str(bid).strip()\n",
    "    G.add_node(f\"block_{block_id}\", type='block')\n",
    "\n",
    "for _, row in zip_in_county.iterrows():\n",
    "    county_id = str(row['place_county']).strip()\n",
    "    zip_id = str(row['place_zip']).strip()\n",
    "    G.add_edge(f\"zip_{zip_id}\", f\"county_{county_id}\")\n",
    "    \n",
    "for _, row in block_in_zip.iterrows():\n",
    "    block_id = str(row['Identifier']).strip()\n",
    "    zip_id = str(row['place_zip']).strip()\n",
    "    G.add_edge(f\"block_{block_id}\", f\"zip_{zip_id}\")"
   ]
  },
  {
   "cell_type": "code",
   "execution_count": 9,
   "id": "10695232",
   "metadata": {},
   "outputs": [],
   "source": [
    "dc_zip_nodes = [f\"zip_{z}\" for z in block_in_zip['place_zip'].unique()]\n",
    "dc_block_nodes = [f\"block_{b}\" for b in block_in_zip['Identifier'].unique()]\n",
    "dc_county_nodes = [f\"county_{c}\" for c in zip_in_county['place_county'].unique()]\n",
    "\n",
    "dc_nodes = dc_zip_nodes + dc_block_nodes + dc_county_nodes\n",
    "\n",
    "H = G.subgraph(dc_nodes).copy()"
   ]
  },
  {
   "cell_type": "code",
   "execution_count": null,
   "id": "3f504f59",
   "metadata": {},
   "outputs": [],
   "source": [
    "# net = py_network.Network(height=\"800px\",width=\"800px\",notebook=True)\n",
    "# net.from_nx(H)\n",
    "\n",
    "# for node in H.nodes(data=True):\n",
    "#     nid, attrs = node\n",
    "#     if 'county' in nid:\n",
    "#         net.get_node(nid)['color'] = 'blue'\n",
    "#     elif 'zip' in nid:\n",
    "#         net.get_node(nid)['color'] = 'green'\n",
    "#     elif 'block' in nid:\n",
    "#         net.get_node(nid)['color'] = 'red'\n",
    "\n",
    "# net.show(\"graph_preview.html\")"
   ]
  },
  {
   "cell_type": "code",
   "execution_count": null,
   "id": "57b48e62",
   "metadata": {},
   "outputs": [],
   "source": [
    "# pos = nx.kamada_kawai_layout(H)\n",
    "\n",
    "# edge_x, edge_y = [], []\n",
    "# for u, v in H.edges():\n",
    "#     x0, y0 = pos[u]\n",
    "#     x1, y1 = pos[v]\n",
    "#     edge_x += [x0, x1, None]\n",
    "#     edge_y += [y0, y1, None]\n",
    "\n",
    "# edge_trace = go.Scatter(\n",
    "#     x=edge_x, y=edge_y, mode='lines', line=dict(width=0.5, color='#888'), hoverinfo='none'\n",
    "# )\n",
    "\n",
    "# node_x, node_y, node_color, node_text = [], [], [], []\n",
    "# for node in H.nodes():\n",
    "#     x, y = pos[node]\n",
    "#     node_x.append(x)\n",
    "#     node_y.append(y)\n",
    "#     node_text.append(node)\n",
    "#     if node.startswith('county_'):\n",
    "#         node_color.append('blue')\n",
    "#     elif node.startswith('zip_'):\n",
    "#         node_color.append('green')\n",
    "#     elif node.startswith('block_'):\n",
    "#         node_color.append('red')\n",
    "\n",
    "# node_trace = go.Scatter(\n",
    "#     x=node_x, y=node_y, mode='markers', hoverinfo='text',\n",
    "#     text=node_text, marker=dict(color=node_color, size=5)\n",
    "# )\n",
    "\n",
    "# fig = go.Figure(data=[edge_trace, node_trace])\n",
    "# fig.update_layout(showlegend=False, hovermode='closest')\n",
    "# fig.show()"
   ]
  },
  {
   "cell_type": "code",
   "execution_count": 12,
   "id": "9188f1b0",
   "metadata": {},
   "outputs": [
    {
     "name": "stdout",
     "output_type": "stream",
     "text": [
      "Graph with 48437 nodes and 44857 edges\n"
     ]
    }
   ],
   "source": [
    "print(G)"
   ]
  },
  {
   "cell_type": "code",
   "execution_count": 13,
   "id": "0b2f83fe",
   "metadata": {},
   "outputs": [
    {
     "name": "stdout",
     "output_type": "stream",
     "text": [
      "Graph with 15347 nodes and 12259 edges\n"
     ]
    }
   ],
   "source": [
    "print(H)"
   ]
  },
  {
   "cell_type": "code",
   "execution_count": 14,
   "id": "84c2c592",
   "metadata": {},
   "outputs": [
    {
     "name": "stdout",
     "output_type": "stream",
     "text": [
      "Counter({'zip': 33120, 'block': 12209, 'county': 3108})\n"
     ]
    }
   ],
   "source": [
    "node_types = [n.split('_')[0] for n in G.nodes()]\n",
    "print(Counter(node_types))"
   ]
  },
  {
   "cell_type": "code",
   "execution_count": null,
   "id": "d5ec8c0c",
   "metadata": {},
   "outputs": [],
   "source": [
    "# node_types = [\n",
    "#     G.nodes[n]['type'] if 'type' in G.nodes[n] else n.split('_')[0]\n",
    "#     for n in G.nodes\n",
    "# ]\n",
    "# counts = Counter(node_types)\n",
    "# print({k: v for k, v in counts.items() if k not in ['zip', 'block', 'county']})\n",
    "\n",
    "# suspect_nodes = [n for n in G.nodes if (\n",
    "#     not n.startswith(\"block_\") and\n",
    "#     not n.startswith(\"zip_\") and\n",
    "#     not n.startswith(\"county_\")\n",
    "# )]\n",
    "# print(f\"Malformed nodes: {len(suspect_nodes)}\")"
   ]
  },
  {
   "cell_type": "markdown",
   "id": "1c7e9acd",
   "metadata": {},
   "source": [
    "#### Load County and Zip Embeddings"
   ]
  },
  {
   "cell_type": "code",
   "execution_count": 17,
   "id": "213eb06a",
   "metadata": {},
   "outputs": [],
   "source": [
    "county_embeddings = pd.read_csv(\"../data/pdfm_embeddings/v0/us/county_embeddings.csv\")\n",
    "zip_embeddings = pd.read_csv(\"../data/pdfm_embeddings/v0/us/zcta_embeddings.csv\")"
   ]
  },
  {
   "cell_type": "code",
   "execution_count": 18,
   "id": "2958ee9f",
   "metadata": {},
   "outputs": [],
   "source": [
    "county_embeddings['place'] = county_embeddings['place'].astype(str).str.strip()\n",
    "zip_embeddings['place'] = zip_embeddings['place'].astype(str).str.strip()"
   ]
  },
  {
   "cell_type": "code",
   "execution_count": 19,
   "id": "7e3bb754",
   "metadata": {},
   "outputs": [],
   "source": [
    "county_embeddings = county_embeddings.rename(columns={'place': 'place_county'}).set_index('place_county')\n",
    "zip_embeddings = zip_embeddings.rename(columns={'place': 'place_zip'}).set_index('place_zip')"
   ]
  },
  {
   "cell_type": "code",
   "execution_count": 21,
   "id": "dfdefa66",
   "metadata": {},
   "outputs": [],
   "source": [
    "county_cols = [col for col in county_embeddings.columns if 'feature' in col]\n",
    "zip_cols = [col for col in zip_embeddings.columns if 'feature' in col]\n",
    "\n",
    "for idx,row in county_embeddings.iterrows():\n",
    "    node_id = f\"county_{str(idx).strip()}\"\n",
    "    if node_id in G:\n",
    "        values = pd.to_numeric(row[county_cols], errors='coerce').fillna(0).values\n",
    "        features = torch.tensor(values, dtype=torch.float32)\n",
    "        G.nodes[node_id]['features'] = features\n",
    "        G.nodes[node_id]['type'] = 'county'\n",
    "        \n",
    "for idx,row in zip_embeddings.iterrows():\n",
    "    node_id = f\"zip_{str(idx).strip()}\"\n",
    "    if node_id in G:\n",
    "        values = pd.to_numeric(row[zip_cols], errors='coerce').fillna(0).values\n",
    "        features = torch.tensor(values, dtype=torch.float32)\n",
    "        G.nodes[node_id]['features'] = features\n",
    "        G.nodes[node_id]['type'] = 'zip'"
   ]
  },
  {
   "cell_type": "code",
   "execution_count": 24,
   "id": "e5b3b1ba",
   "metadata": {},
   "outputs": [
    {
     "name": "stdout",
     "output_type": "stream",
     "text": [
      "Missing counties in G: 0\n",
      "Missing zips in G: 0\n"
     ]
    }
   ],
   "source": [
    "missing_counties = []\n",
    "for idx, row in county_embeddings.iterrows():\n",
    "    node_id = f\"county_{idx}\"\n",
    "    if node_id not in G:\n",
    "        missing_counties.append(node_id)\n",
    "    else:\n",
    "        values = pd.to_numeric(row[county_cols], errors='coerce').fillna(0).values\n",
    "        features = torch.tensor(values, dtype=torch.float32)\n",
    "        G.nodes[node_id]['features'] = features\n",
    "        G.nodes[node_id]['type'] = 'county'\n",
    "\n",
    "print(f\"Missing counties in G: {len(missing_counties)}\")\n",
    "\n",
    "\n",
    "\n",
    "missing_zip = []\n",
    "for idx, row in zip_embeddings.iterrows():\n",
    "    node_id = f\"zip_{idx}\"\n",
    "    if node_id not in G: \n",
    "        missing_zip.append(node_id)\n",
    "    else:\n",
    "        values = pd.to_numeric(row[zip_cols], errors='coerce').fillna(0).values\n",
    "        features = torch.tensor(values, dtype=torch.float32)\n",
    "        G.nodes[node_id]['features'] = features\n",
    "        G.nodes[node_id]['type'] = 'zip'\n",
    "        \n",
    "print(f\"Missing zips in G: {len(missing_zip)}\")"
   ]
  },
  {
   "cell_type": "markdown",
   "id": "a52e6ad4",
   "metadata": {},
   "source": [
    "#### Empty Tensor [Iteration 1: dim(330)]"
   ]
  },
  {
   "cell_type": "code",
   "execution_count": 25,
   "id": "63a6cd28",
   "metadata": {},
   "outputs": [],
   "source": [
    "for node in G.nodes():\n",
    "    if node.startswith('block_'):\n",
    "        if 'features' not in G.nodes[node]: \n",
    "            G.nodes[node]['features'] = torch.zeros(330, dtype=torch.float32)\n",
    "        G.nodes[node]['type'] = 'block'"
   ]
  },
  {
   "cell_type": "code",
   "execution_count": 26,
   "id": "bbc03cdd",
   "metadata": {},
   "outputs": [
    {
     "name": "stdout",
     "output_type": "stream",
     "text": [
      "torch.Size([330])\n"
     ]
    }
   ],
   "source": [
    "sample_block = next(n for n in G.nodes if n.startswith('block_'))\n",
    "print(G.nodes[sample_block]['features'].shape)  # should be: torch.Size([330])"
   ]
  },
  {
   "cell_type": "code",
   "execution_count": 34,
   "id": "15ce8f48",
   "metadata": {},
   "outputs": [
    {
     "name": "stdout",
     "output_type": "stream",
     "text": [
      "Total nodes in G: 47366\n",
      "Feature dimension counts:\n",
      "Counter({330: 47366})\n"
     ]
    }
   ],
   "source": [
    "# Total number of nodes\n",
    "total_nodes = len(G.nodes)\n",
    "\n",
    "# Count nodes by feature presence and feature shape\n",
    "feature_dim_counter = Counter()\n",
    "\n",
    "for node in G.nodes:\n",
    "    if 'features' in G.nodes[node]:\n",
    "        shape = G.nodes[node]['features'].shape\n",
    "        if isinstance(shape, torch.Size) or isinstance(shape, tuple):\n",
    "            feature_dim_counter[shape[0]] += 1\n",
    "        else:\n",
    "            feature_dim_counter['invalid'] += 1\n",
    "    else:\n",
    "        feature_dim_counter['missing'] += 1\n",
    "\n",
    "# Print summary\n",
    "print(f\"Total nodes in G: {total_nodes}\")\n",
    "print(f\"Feature dimension counts:\\n{feature_dim_counter}\")"
   ]
  },
  {
   "cell_type": "code",
   "execution_count": 28,
   "id": "48f90b8e",
   "metadata": {},
   "outputs": [
    {
     "name": "stdout",
     "output_type": "stream",
     "text": [
      "Missing node types: Counter({'zip': 1051, 'county': 20})\n"
     ]
    }
   ],
   "source": [
    "missing_nodes = [n for n in G.nodes if 'features' not in G.nodes[n]]\n",
    "from collections import Counter\n",
    "missing_types = Counter([n.split('_')[0] for n in missing_nodes])\n",
    "print(\"Missing node types:\", missing_types)"
   ]
  },
  {
   "cell_type": "code",
   "execution_count": 29,
   "id": "60b546fa",
   "metadata": {},
   "outputs": [],
   "source": [
    "missing_zips = [n.replace(\"zip_\", \"\") for n in missing_nodes if n.startswith(\"zip_\")]\n",
    "missing_counties = [n.replace(\"county_\", \"\") for n in missing_nodes if n.startswith(\"county_\")]"
   ]
  },
  {
   "cell_type": "code",
   "execution_count": 30,
   "id": "d0f5e9d1",
   "metadata": {},
   "outputs": [],
   "source": [
    "zip_embeddings.index = zip_embeddings.index.astype(str).str.strip()\n",
    "county_embeddings.index = county_embeddings.index.astype(str).str.strip()"
   ]
  },
  {
   "cell_type": "code",
   "execution_count": null,
   "id": "e129cf43",
   "metadata": {},
   "outputs": [],
   "source": [
    "zip_embeddings"
   ]
  },
  {
   "cell_type": "code",
   "execution_count": 31,
   "id": "66ea02fa",
   "metadata": {},
   "outputs": [
    {
     "name": "stdout",
     "output_type": "stream",
     "text": [
      "ZIPs missing in embeddings: 1051\n",
      "Counties missing in embeddings: 20\n"
     ]
    }
   ],
   "source": [
    "missing_zips_in_embeddings = [z for z in missing_zips if z not in zip_embeddings.index]\n",
    "missing_counties_in_embeddings = [c for c in missing_counties if c not in county_embeddings.index]\n",
    "\n",
    "print(f\"ZIPs missing in embeddings: {len(missing_zips_in_embeddings)}\")\n",
    "print(f\"Counties missing in embeddings: {len(missing_counties_in_embeddings)}\")"
   ]
  },
  {
   "cell_type": "markdown",
   "id": "f10599ae",
   "metadata": {},
   "source": [
    "#### Removed the empty Nodes for torch-geometric "
   ]
  },
  {
   "cell_type": "code",
   "execution_count": null,
   "id": "2f2fb53e",
   "metadata": {},
   "outputs": [],
   "source": [
    "G.remove_nodes_from([n for n in G.nodes if 'features' not in G.nodes[n]])"
   ]
  },
  {
   "cell_type": "markdown",
   "id": "6377438f",
   "metadata": {},
   "source": [
    "#### Pickle for Backup"
   ]
  },
  {
   "cell_type": "code",
   "execution_count": 42,
   "id": "cf789edb",
   "metadata": {},
   "outputs": [],
   "source": [
    "with open(\"dc_graph.pkl\", \"wb\") as f:\n",
    "     pickle.dump(G, f)"
   ]
  },
  {
   "cell_type": "code",
   "execution_count": null,
   "id": "dffeff6a",
   "metadata": {},
   "outputs": [],
   "source": [
    "with open(\"dc_graph.pkl\", \"rb\") as f:\n",
    "    G = pickle.load(f)"
   ]
  },
  {
   "cell_type": "code",
   "execution_count": 35,
   "id": "90d72389",
   "metadata": {},
   "outputs": [],
   "source": [
    "for node in G.nodes:\n",
    "    if 'features' not in G.nodes[node]:\n",
    "        print(node)"
   ]
  },
  {
   "cell_type": "code",
   "execution_count": 37,
   "id": "df570a98",
   "metadata": {},
   "outputs": [],
   "source": [
    "for n in G.nodes:\n",
    "    if 'features' not in G.nodes[n] or G.nodes[n]['features'].shape[0] != 330:\n",
    "        print(f\"❌ Bad node: {n}\")\n",
    "        break"
   ]
  },
  {
   "cell_type": "code",
   "execution_count": 55,
   "id": "ce373a83",
   "metadata": {},
   "outputs": [
    {
     "name": "stdout",
     "output_type": "stream",
     "text": [
      "❗ Nodes with invalid feature shape: 0\n"
     ]
    }
   ],
   "source": [
    "bad_shape_nodes = []\n",
    "\n",
    "for n in G.nodes:\n",
    "    f = G.nodes[n].get('features', None)\n",
    "    if f is None:\n",
    "        continue  # handled separately below\n",
    "    if not isinstance(f, torch.Tensor):\n",
    "        bad_shape_nodes.append((n, type(f), 'not a tensor'))\n",
    "    elif f.shape != (330,):\n",
    "        bad_shape_nodes.append((n, f.shape, 'wrong shape'))\n",
    "\n",
    "print(f\"❗ Nodes with invalid feature shape: {len(bad_shape_nodes)}\")\n",
    "if bad_shape_nodes:\n",
    "    for n, shape, reason in bad_shape_nodes[:5]:\n",
    "        print(f\"  {n}: {shape} ({reason})\")"
   ]
  },
  {
   "cell_type": "code",
   "execution_count": 54,
   "id": "1fbd70ef",
   "metadata": {},
   "outputs": [
    {
     "name": "stdout",
     "output_type": "stream",
     "text": [
      "{<class 'torch.Tensor'>}\n"
     ]
    }
   ],
   "source": [
    "types = {type(G.nodes[n]['features']) for n in G.nodes if 'features' in G.nodes[n]}\n",
    "print(types)  # should be: {<class 'torch.Tensor'>}"
   ]
  },
  {
   "cell_type": "code",
   "execution_count": 77,
   "id": "411f55b6",
   "metadata": {},
   "outputs": [],
   "source": [
    "data = from_networkx(G, group_node_attrs=['features'])"
   ]
  },
  {
   "cell_type": "code",
   "execution_count": 83,
   "id": "fc9e897f",
   "metadata": {},
   "outputs": [
    {
     "name": "stdout",
     "output_type": "stream",
     "text": [
      "torch.Size([47366, 330])\n"
     ]
    }
   ],
   "source": [
    "print(data.x.shape)"
   ]
  },
  {
   "cell_type": "code",
   "execution_count": 84,
   "id": "7c2df0e2",
   "metadata": {},
   "outputs": [
    {
     "name": "stdout",
     "output_type": "stream",
     "text": [
      "tensor([[-4.5307e-02,  1.9088e+00,  1.5809e+00,  ...,  6.2893e+00,\n",
      "         -6.2022e-03,  3.6888e+00],\n",
      "        [-5.0006e-02,  3.1870e+00,  9.8620e-01,  ..., -1.6783e-01,\n",
      "         -4.0926e-03,  4.9177e+00],\n",
      "        [-8.2115e-02,  1.2409e+00,  9.7846e-01,  ...,  2.0864e-01,\n",
      "         -5.6943e-02,  4.8576e+00],\n",
      "        ...,\n",
      "        [ 0.0000e+00,  0.0000e+00,  0.0000e+00,  ...,  0.0000e+00,\n",
      "          0.0000e+00,  0.0000e+00],\n",
      "        [ 0.0000e+00,  0.0000e+00,  0.0000e+00,  ...,  0.0000e+00,\n",
      "          0.0000e+00,  0.0000e+00],\n",
      "        [ 0.0000e+00,  0.0000e+00,  0.0000e+00,  ...,  0.0000e+00,\n",
      "          0.0000e+00,  0.0000e+00]])\n"
     ]
    }
   ],
   "source": [
    "print(data.x)"
   ]
  },
  {
   "cell_type": "code",
   "execution_count": 63,
   "id": "67029a98",
   "metadata": {},
   "outputs": [],
   "source": [
    "for n in G.nodes:\n",
    "    if 'features' not in G.nodes[n]:\n",
    "        G.nodes[n]['features'] = torch.zeros(330)\n",
    "    if 'type' not in G.nodes[n]:\n",
    "        G.nodes[n]['type'] = 'unknown'"
   ]
  },
  {
   "cell_type": "code",
   "execution_count": 75,
   "id": "de6213fd",
   "metadata": {},
   "outputs": [],
   "source": [
    "for n in G.nodes:\n",
    "    if n.startswith(\"block_\"):\n",
    "        G.nodes[n]['type'] = 'block'\n",
    "    elif n.startswith(\"zip_\"):\n",
    "        G.nodes[n]['type'] = 'zip'\n",
    "    elif n.startswith(\"county_\"):\n",
    "        G.nodes[n]['type'] = 'county'\n",
    "    else:\n",
    "        G.nodes[n]['type'] = 'unknown'"
   ]
  },
  {
   "cell_type": "code",
   "execution_count": 80,
   "id": "dae4cc02",
   "metadata": {},
   "outputs": [
    {
     "name": "stdout",
     "output_type": "stream",
     "text": [
      "Counter({'zip': 32069, 'block': 12209, 'county': 3088})\n"
     ]
    }
   ],
   "source": [
    "type_counts = Counter(G.nodes[n].get('type', 'missing') for n in G.nodes)\n",
    "print(type_counts)"
   ]
  },
  {
   "cell_type": "code",
   "execution_count": 81,
   "id": "02ea2ed0",
   "metadata": {},
   "outputs": [],
   "source": [
    "expected_keys = set(G.nodes[next(iter(G.nodes))].keys())\n",
    "for n in G.nodes:\n",
    "    if set(G.nodes[n].keys()) != expected_keys:\n",
    "        print(f\"Mismatch at {n}: {G.nodes[n].keys()}\")\n",
    "        break"
   ]
  },
  {
   "cell_type": "markdown",
   "id": "fc98282f",
   "metadata": {},
   "source": [
    "Training the GraphSAGE model"
   ]
  },
  {
   "cell_type": "code",
   "execution_count": 86,
   "id": "5e568942",
   "metadata": {},
   "outputs": [
    {
     "data": {
      "text/plain": [
       "torch.Size([2, 88412])"
      ]
     },
     "execution_count": 86,
     "metadata": {},
     "output_type": "execute_result"
    }
   ],
   "source": [
    "data.edge_index.shape"
   ]
  },
  {
   "cell_type": "code",
   "execution_count": 85,
   "id": "6102c229",
   "metadata": {},
   "outputs": [
    {
     "data": {
      "text/plain": [
       "tensor([[    0,     0,     0,  ..., 47363, 47364, 47365],\n",
       "        [10701, 10720, 12139,  ..., 27259, 27139, 27139]])"
      ]
     },
     "execution_count": 85,
     "metadata": {},
     "output_type": "execute_result"
    }
   ],
   "source": [
    "data.edge_index"
   ]
  },
  {
   "cell_type": "code",
   "execution_count": null,
   "id": "73278ed1",
   "metadata": {},
   "outputs": [],
   "source": [
    "node_types = [G.nodes[n]['type'] for n in G.nodes]\n",
    "node_type_tensor = torch.tensor([{'block': 0, 'zip': 1, 'county': 2}[t] for t in node_types])\n",
    "\n",
    "zip_mask = node_type_tensor == 1\n",
    "county_mask = node_type_tensor == 2\n",
    "block_mask = node_type_tensor == 0\n",
    "\n",
    "train_mask = zip_mask | county_mask "
   ]
  },
  {
   "cell_type": "code",
   "execution_count": 89,
   "id": "1ac00b87",
   "metadata": {},
   "outputs": [],
   "source": [
    "class GraphSAGE(Module):\n",
    "    def __init__(self, in_dim=330, hidden_dim=128, out_dim=330):\n",
    "        super().__init__()\n",
    "        self.conv1 = SAGEConv(in_dim, hidden_dim)\n",
    "        self.conv2 = SAGEConv(hidden_dim, out_dim)\n",
    "\n",
    "    def forward(self, x, edge_index):\n",
    "        x = self.conv1(x, edge_index)\n",
    "        x = F.relu(x)\n",
    "        x = self.conv2(x, edge_index)\n",
    "        return x"
   ]
  },
  {
   "cell_type": "code",
   "execution_count": 92,
   "id": "b30c7cfb",
   "metadata": {},
   "outputs": [
    {
     "name": "stdout",
     "output_type": "stream",
     "text": [
      "Epoch 0 | Loss: 1.8299\n",
      "Epoch 20 | Loss: 0.6591\n",
      "Epoch 40 | Loss: 0.4964\n",
      "Epoch 60 | Loss: 0.4022\n",
      "Epoch 80 | Loss: 0.3480\n",
      "Epoch 100 | Loss: 0.3150\n",
      "Epoch 120 | Loss: 0.2895\n",
      "Epoch 140 | Loss: 0.2727\n",
      "Epoch 160 | Loss: 0.2646\n",
      "Epoch 180 | Loss: 0.2558\n"
     ]
    }
   ],
   "source": [
    "model = GraphSAGE()\n",
    "optimizer = torch.optim.Adam(model.parameters(), lr=0.005)\n",
    "\n",
    "x_init = data.x.clone()  # Save original inputs\n",
    "\n",
    "losses = []  # ← to store loss at each epoch\n",
    "\n",
    "for epoch in range(200):\n",
    "    model.train()\n",
    "    optimizer.zero_grad()\n",
    "    out = model(x_init, data.edge_index)\n",
    "\n",
    "    loss = F.mse_loss(out[train_mask], x_init[train_mask])\n",
    "    loss.backward()\n",
    "    optimizer.step()\n",
    "\n",
    "    losses.append(loss.item())  # ⬅️ record loss\n",
    "    \n",
    "    if epoch % 20 == 0:\n",
    "        print(f\"Epoch {epoch} | Loss: {loss.item():.4f}\")"
   ]
  },
  {
   "cell_type": "code",
   "execution_count": 93,
   "id": "47c2298d",
   "metadata": {},
   "outputs": [
    {
     "data": {
      "image/png": "[encoded data removed]",
      "text/plain": [
       "<Figure size 800x400 with 1 Axes>"
      ]
     },
     "metadata": {},
     "output_type": "display_data"
    }
   ],
   "source": [
    "plt.figure(figsize=(8, 4))\n",
    "plt.plot(range(len(losses)), losses, label='Training Loss')\n",
    "plt.xlabel('Epoch')\n",
    "plt.ylabel('MSE Loss')\n",
    "plt.title('GraphSAGE Training Loss over Time')\n",
    "plt.grid(True)\n",
    "plt.legend()\n",
    "plt.tight_layout()\n",
    "plt.show()"
   ]
  },
  {
   "cell_type": "code",
   "execution_count": null,
   "id": "133b4040",
   "metadata": {},
   "outputs": [],
   "source": [
    "losses"
   ]
  },
  {
   "cell_type": "markdown",
   "id": "f1c177e0",
   "metadata": {},
   "source": [
    "#### Hyperparameter Sweep Function"
   ]
  },
  {
   "cell_type": "code",
   "execution_count": 107,
   "id": "38c66a3b",
   "metadata": {},
   "outputs": [],
   "source": [
    "optimizers = ['Adam', 'AdamW', 'SGD']\n",
    "learning_rates = [1e-3, 5e-3]\n",
    "weight_decays = [1e-5, 1e-4]\n",
    "hidden_dims = [64, 128]\n",
    "epoch_list = [200, 500, 1000]"
   ]
  },
  {
   "cell_type": "code",
   "execution_count": 110,
   "id": "cd7ccecd",
   "metadata": {},
   "outputs": [],
   "source": [
    "class GraphSAGE(torch.nn.Module):\n",
    "    def __init__(self, in_dim, hidden_dim, out_dim):\n",
    "        super().__init__()\n",
    "        self.conv1 = SAGEConv(in_dim, hidden_dim)\n",
    "        self.conv2 = SAGEConv(hidden_dim, out_dim)\n",
    "\n",
    "    def forward(self, x, edge_index):\n",
    "        x = self.conv1(x, edge_index)\n",
    "        x = F.relu(x)\n",
    "        x = self.conv2(x, edge_index)\n",
    "        return x\n",
    "\n",
    "def run_sweep(\n",
    "    data, x_init, train_mask,\n",
    "    optimizers=['Adam', 'AdamW'],\n",
    "    learning_rates=[1e-3, 5e-3],\n",
    "    weight_decays=[1e-5, 1e-4],\n",
    "    hidden_dims=[64, 128],\n",
    "    epoch_list=[100, 200],\n",
    "    verbose=False, \n",
    "    return_loss_curve = False\n",
    "):\n",
    "    results = []\n",
    "    loss_curves = {}\n",
    "    best_model = None\n",
    "    best_loss = float('inf')\n",
    "    \n",
    "    combinations = list(product(optimizers, learning_rates, weight_decays, hidden_dims, epoch_list))\n",
    "\n",
    "    for opt_type, lr, wd, hdim, epochs in combinations:\n",
    "        model = GraphSAGE(in_dim=x_init.shape[1], hidden_dim=hdim, out_dim=x_init.shape[1])\n",
    "        model.train()\n",
    "        \n",
    "        if opt_type == 'Adam':\n",
    "            optimizer = torch.optim.Adam(model.parameters(), lr=lr, weight_decay=wd)\n",
    "        elif opt_type == 'AdamW':\n",
    "            optimizer = torch.optim.AdamW(model.parameters(), lr=lr, weight_decay=wd)\n",
    "        elif opt_type == 'SGD':\n",
    "            optimizer = torch.optim.SGD(model.parameters(), lr=lr, weight_decay=wd)\n",
    "        else:\n",
    "            raise ValueError(f\"Unknown optimizer: {opt_type}\")\n",
    "        \n",
    "        loss_curve = []\n",
    "        for epoch in range(epochs):\n",
    "            optimizer.zero_grad()\n",
    "            out = model(x_init, data.edge_index)\n",
    "            loss = F.mse_loss(out[train_mask], x_init[train_mask])\n",
    "            loss.backward()\n",
    "            optimizer.step()\n",
    "            loss_curve.append(loss.item())\n",
    "        \n",
    "        final_loss = loss.item()\n",
    "        config_id = f\"{opt_type}_lr{lr}_wd{wd}_hd{hdim}_ep{epochs}\"\n",
    "        loss_curves[config_id] = loss_curve\n",
    "        if verbose:\n",
    "            print(f\"{opt_type}, lr={lr}, wd={wd}, hdim={hdim}, ep={epochs} → loss={final_loss:.4f}\")\n",
    "        \n",
    "        results.append({\n",
    "            'optimizer': opt_type,\n",
    "            'lr': lr,\n",
    "            'wd': wd,\n",
    "            'hidden_dim': hdim,\n",
    "            'epochs': epochs,\n",
    "            'loss': final_loss\n",
    "        })\n",
    "\n",
    "        if final_loss < best_loss:\n",
    "            best_loss = final_loss\n",
    "            best_model = model\n",
    "\n",
    "    df = pd.DataFrame(results).sort_values(by='loss').reset_index(drop=True)\n",
    "\n",
    "    if return_loss_curve:\n",
    "        return best_model, df, loss_curves\n",
    "    else:\n",
    "        return best_model, df"
   ]
  },
  {
   "cell_type": "markdown",
   "id": "3a9717da",
   "metadata": {},
   "source": [
    "#### Hyperparameter Sweep helps us identify what works best in terms of learning rate, weights, hidden layer dimension and epochs for learning"
   ]
  },
  {
   "cell_type": "code",
   "execution_count": 111,
   "id": "9f30f9d5",
   "metadata": {},
   "outputs": [
    {
     "name": "stdout",
     "output_type": "stream",
     "text": [
      "Adam, lr=0.001, wd=1e-05, hdim=64, ep=200 → loss=0.3652\n",
      "Adam, lr=0.001, wd=1e-05, hdim=64, ep=500 → loss=0.2514\n",
      "Adam, lr=0.001, wd=1e-05, hdim=64, ep=1000 → loss=0.1757\n",
      "Adam, lr=0.001, wd=1e-05, hdim=128, ep=200 → loss=0.2107\n",
      "Adam, lr=0.001, wd=1e-05, hdim=128, ep=500 → loss=0.1374\n",
      "Adam, lr=0.001, wd=1e-05, hdim=128, ep=1000 → loss=0.1030\n",
      "Adam, lr=0.001, wd=0.0001, hdim=64, ep=200 → loss=0.3312\n",
      "Adam, lr=0.001, wd=0.0001, hdim=64, ep=500 → loss=0.2300\n",
      "Adam, lr=0.001, wd=0.0001, hdim=64, ep=1000 → loss=0.2100\n",
      "Adam, lr=0.001, wd=0.0001, hdim=128, ep=200 → loss=0.2222\n",
      "Adam, lr=0.001, wd=0.0001, hdim=128, ep=500 → loss=0.1274\n",
      "Adam, lr=0.001, wd=0.0001, hdim=128, ep=1000 → loss=0.1029\n",
      "Adam, lr=0.005, wd=1e-05, hdim=64, ep=200 → loss=0.4000\n",
      "Adam, lr=0.005, wd=1e-05, hdim=64, ep=500 → loss=0.3529\n",
      "Adam, lr=0.005, wd=1e-05, hdim=64, ep=1000 → loss=0.3144\n",
      "Adam, lr=0.005, wd=1e-05, hdim=128, ep=200 → loss=0.2668\n",
      "Adam, lr=0.005, wd=1e-05, hdim=128, ep=500 → loss=0.2281\n",
      "Adam, lr=0.005, wd=1e-05, hdim=128, ep=1000 → loss=0.1901\n",
      "Adam, lr=0.005, wd=0.0001, hdim=64, ep=200 → loss=0.3517\n",
      "Adam, lr=0.005, wd=0.0001, hdim=64, ep=500 → loss=0.3412\n",
      "Adam, lr=0.005, wd=0.0001, hdim=64, ep=1000 → loss=0.2696\n",
      "Adam, lr=0.005, wd=0.0001, hdim=128, ep=200 → loss=0.2552\n",
      "Adam, lr=0.005, wd=0.0001, hdim=128, ep=500 → loss=0.2228\n",
      "Adam, lr=0.005, wd=0.0001, hdim=128, ep=1000 → loss=0.1786\n",
      "AdamW, lr=0.001, wd=1e-05, hdim=64, ep=200 → loss=0.3539\n",
      "AdamW, lr=0.001, wd=1e-05, hdim=64, ep=500 → loss=0.2396\n",
      "AdamW, lr=0.001, wd=1e-05, hdim=64, ep=1000 → loss=0.1897\n",
      "AdamW, lr=0.001, wd=1e-05, hdim=128, ep=200 → loss=0.2041\n",
      "AdamW, lr=0.001, wd=1e-05, hdim=128, ep=500 → loss=0.1311\n",
      "AdamW, lr=0.001, wd=1e-05, hdim=128, ep=1000 → loss=0.0988\n",
      "AdamW, lr=0.001, wd=0.0001, hdim=64, ep=200 → loss=0.3301\n",
      "AdamW, lr=0.001, wd=0.0001, hdim=64, ep=500 → loss=0.2474\n",
      "AdamW, lr=0.001, wd=0.0001, hdim=64, ep=1000 → loss=0.1944\n",
      "AdamW, lr=0.001, wd=0.0001, hdim=128, ep=200 → loss=0.2058\n",
      "AdamW, lr=0.001, wd=0.0001, hdim=128, ep=500 → loss=0.1428\n",
      "AdamW, lr=0.001, wd=0.0001, hdim=128, ep=1000 → loss=0.1069\n",
      "AdamW, lr=0.005, wd=1e-05, hdim=64, ep=200 → loss=0.3834\n",
      "AdamW, lr=0.005, wd=1e-05, hdim=64, ep=500 → loss=0.4456\n",
      "AdamW, lr=0.005, wd=1e-05, hdim=64, ep=1000 → loss=0.3824\n",
      "AdamW, lr=0.005, wd=1e-05, hdim=128, ep=200 → loss=0.2522\n",
      "AdamW, lr=0.005, wd=1e-05, hdim=128, ep=500 → loss=0.2121\n",
      "AdamW, lr=0.005, wd=1e-05, hdim=128, ep=1000 → loss=0.2204\n",
      "AdamW, lr=0.005, wd=0.0001, hdim=64, ep=200 → loss=0.3887\n",
      "AdamW, lr=0.005, wd=0.0001, hdim=64, ep=500 → loss=0.3974\n",
      "AdamW, lr=0.005, wd=0.0001, hdim=64, ep=1000 → loss=0.3343\n",
      "AdamW, lr=0.005, wd=0.0001, hdim=128, ep=200 → loss=0.2401\n",
      "AdamW, lr=0.005, wd=0.0001, hdim=128, ep=500 → loss=0.2098\n",
      "AdamW, lr=0.005, wd=0.0001, hdim=128, ep=1000 → loss=0.2034\n",
      "SGD, lr=0.001, wd=1e-05, hdim=64, ep=200 → loss=1.5661\n",
      "SGD, lr=0.001, wd=1e-05, hdim=64, ep=500 → loss=1.5240\n",
      "SGD, lr=0.001, wd=1e-05, hdim=64, ep=1000 → loss=1.4722\n",
      "SGD, lr=0.001, wd=1e-05, hdim=128, ep=200 → loss=1.5643\n",
      "SGD, lr=0.001, wd=1e-05, hdim=128, ep=500 → loss=1.3617\n",
      "SGD, lr=0.001, wd=1e-05, hdim=128, ep=1000 → loss=1.1663\n",
      "SGD, lr=0.001, wd=0.0001, hdim=64, ep=200 → loss=1.5912\n",
      "SGD, lr=0.001, wd=0.0001, hdim=64, ep=500 → loss=1.5156\n",
      "SGD, lr=0.001, wd=0.0001, hdim=64, ep=1000 → loss=1.4746\n",
      "SGD, lr=0.001, wd=0.0001, hdim=128, ep=200 → loss=1.5449\n",
      "SGD, lr=0.001, wd=0.0001, hdim=128, ep=500 → loss=1.4597\n",
      "SGD, lr=0.001, wd=0.0001, hdim=128, ep=1000 → loss=1.0850\n",
      "SGD, lr=0.005, wd=1e-05, hdim=64, ep=200 → loss=1.3901\n",
      "SGD, lr=0.005, wd=1e-05, hdim=64, ep=500 → loss=1.0528\n",
      "SGD, lr=0.005, wd=1e-05, hdim=64, ep=1000 → loss=0.8285\n",
      "SGD, lr=0.005, wd=1e-05, hdim=128, ep=200 → loss=1.1243\n",
      "SGD, lr=0.005, wd=1e-05, hdim=128, ep=500 → loss=0.8416\n",
      "SGD, lr=0.005, wd=1e-05, hdim=128, ep=1000 → loss=0.7751\n",
      "SGD, lr=0.005, wd=0.0001, hdim=64, ep=200 → loss=1.4225\n",
      "SGD, lr=0.005, wd=0.0001, hdim=64, ep=500 → loss=1.1058\n",
      "SGD, lr=0.005, wd=0.0001, hdim=64, ep=1000 → loss=0.8294\n",
      "SGD, lr=0.005, wd=0.0001, hdim=128, ep=200 → loss=1.1737\n",
      "SGD, lr=0.005, wd=0.0001, hdim=128, ep=500 → loss=0.8409\n",
      "SGD, lr=0.005, wd=0.0001, hdim=128, ep=1000 → loss=0.7822\n"
     ]
    }
   ],
   "source": [
    "best_model, results_df, loss_curves = run_sweep(data, x_init, train_mask, optimizers, learning_rates, weight_decays, hidden_dims, epoch_list, verbose=True, return_loss_curve=True)"
   ]
  },
  {
   "cell_type": "code",
   "execution_count": 112,
   "id": "c9f8a7d1",
   "metadata": {},
   "outputs": [],
   "source": [
    "results_df.to_csv(\"../results/model_results.csv\")"
   ]
  },
  {
   "cell_type": "code",
   "execution_count": null,
   "id": "81c45a23",
   "metadata": {},
   "outputs": [
    {
     "data": {
      "text/plain": [
       "Index(['optimizer', 'lr', 'wd', 'hidden_dim', 'epochs', 'loss'], dtype='object')"
      ]
     },
     "execution_count": 116,
     "metadata": {},
     "output_type": "execute_result"
    }
   ],
   "source": [
    "config_id = f\"{opt_type}_lr{lr}_wd{wd}_hd{hdim}_ep{epochs}\""
   ]
  },
  {
   "cell_type": "code",
   "execution_count": 117,
   "id": "260fb2fc",
   "metadata": {},
   "outputs": [],
   "source": [
    "results_df['config'] = results_df.apply(\n",
    "    lambda row: f\"{row['optimizer']}_lr{row['lr']}_wd{row['wd']}_hd{row['hidden_dim']}_ep{row['epochs']}\",\n",
    "    axis=1\n",
    ")"
   ]
  },
  {
   "cell_type": "code",
   "execution_count": 119,
   "id": "2b1f1c9d",
   "metadata": {},
   "outputs": [
    {
     "data": {
      "image/png": "[encoded data removed]",
      "text/plain": [
       "<Figure size 1000x600 with 1 Axes>"
      ]
     },
     "metadata": {},
     "output_type": "display_data"
    }
   ],
   "source": [
    "# Plot loss for top 3 models with final loss in legend\n",
    "top_rows = results_df.sort_values(by='loss').head(3)\n",
    "\n",
    "plt.figure(figsize=(10, 6))\n",
    "\n",
    "for _, row in top_rows.iterrows():\n",
    "    config = row['config']\n",
    "    final_loss = row['loss']\n",
    "    label = f\"{config} (final loss: {final_loss:.4f})\"\n",
    "    plt.plot(loss_curves[config], label=label)\n",
    "\n",
    "plt.xlabel('Epoch')\n",
    "plt.ylabel('MSE Loss')\n",
    "plt.title('Loss Curves for Top 3 GraphSAGE Models')\n",
    "plt.legend()\n",
    "plt.grid(True)\n",
    "plt.tight_layout()\n",
    "plt.show()"
   ]
  },
  {
   "cell_type": "markdown",
   "id": "afc8c2b3",
   "metadata": {},
   "source": [
    "#### Check Semantic Structure Preservation"
   ]
  },
  {
   "cell_type": "code",
   "execution_count": 120,
   "id": "6e6b52e3",
   "metadata": {},
   "outputs": [
    {
     "name": "stdout",
     "output_type": "stream",
     "text": [
      "Mean cosine similarity: 0.9644116759300232\n"
     ]
    }
   ],
   "source": [
    "out = best_model(x_init, data.edge_index)\n",
    "cos_sim = F.cosine_similarity(out[train_mask], x_init[train_mask], dim=1)\n",
    "print(\"Mean cosine similarity:\", cos_sim.mean().item())"
   ]
  },
  {
   "cell_type": "code",
   "execution_count": 121,
   "id": "5516aede",
   "metadata": {},
   "outputs": [
    {
     "data": {
      "text/plain": [
       "GraphSAGE(\n",
       "  (conv1): SAGEConv(330, 128, aggr=mean)\n",
       "  (conv2): SAGEConv(128, 330, aggr=mean)\n",
       ")"
      ]
     },
     "execution_count": 121,
     "metadata": {},
     "output_type": "execute_result"
    }
   ],
   "source": [
    "best_model"
   ]
  },
  {
   "cell_type": "markdown",
   "id": "b72af579",
   "metadata": {},
   "source": [
    "#### Generate Embeddings from the Best Model"
   ]
  },
  {
   "cell_type": "code",
   "execution_count": 122,
   "id": "9fa334f2",
   "metadata": {},
   "outputs": [],
   "source": [
    "best_model.eval()\n",
    "with torch.no_grad():\n",
    "    final_embeddings = best_model(data.x, data.edge_index)"
   ]
  },
  {
   "cell_type": "code",
   "execution_count": null,
   "id": "2a1a3d90",
   "metadata": {},
   "outputs": [],
   "source": [
    "final_embeddings"
   ]
  },
  {
   "cell_type": "code",
   "execution_count": null,
   "id": "af15e4c6",
   "metadata": {},
   "outputs": [],
   "source": [
    "node_ids = list(G.nodes) #preserved index"
   ]
  },
  {
   "cell_type": "code",
   "execution_count": 124,
   "id": "065de892",
   "metadata": {},
   "outputs": [],
   "source": [
    "block_rows = [(i, nid) for i, nid in enumerate(node_ids) if nid.startswith('block_')]\n",
    "\n",
    "block_indices = [i for i, _ in block_rows]\n",
    "block_names = [nid for _, nid in block_rows]\n",
    "\n",
    "block_embeddings = final_embeddings[block_indices]"
   ]
  },
  {
   "cell_type": "code",
   "execution_count": 145,
   "id": "66c2b0e6",
   "metadata": {},
   "outputs": [],
   "source": [
    "block_df = pd.DataFrame(block_embeddings.cpu().numpy(), index=block_names)\n",
    "block_df.index.name = 'Identifier'"
   ]
  },
  {
   "cell_type": "code",
   "execution_count": null,
   "id": "211bc502",
   "metadata": {},
   "outputs": [],
   "source": [
    "block_df"
   ]
  },
  {
   "cell_type": "code",
   "execution_count": 147,
   "id": "671a8fa1",
   "metadata": {},
   "outputs": [],
   "source": [
    "block_df['Identifier'] = block_df.index"
   ]
  },
  {
   "cell_type": "code",
   "execution_count": 148,
   "id": "afdc09b0",
   "metadata": {},
   "outputs": [],
   "source": [
    "block_df['Identifier'] = block_df['Identifier'].str.replace('block_', '', regex=False)"
   ]
  },
  {
   "cell_type": "code",
   "execution_count": null,
   "id": "942ac602",
   "metadata": {},
   "outputs": [],
   "source": [
    "block_df.columns = [f'feature{i}' for i in range(block_df.shape[1])]\n",
    "\n",
    "block_df = block_df.reset_index(drop=True)\n",
    "\n",
    "gdf_dc_embeddings = gdf_dc_to_join.merge(block_df, on=\"Identifier\", how=\"left\")"
   ]
  },
  {
   "cell_type": "code",
   "execution_count": 149,
   "id": "a5f0a6c2",
   "metadata": {},
   "outputs": [],
   "source": [
    "block_df = block_df.reset_index(drop=True)"
   ]
  },
  {
   "cell_type": "code",
   "execution_count": 152,
   "id": "25c9309b",
   "metadata": {},
   "outputs": [],
   "source": [
    "gdf_dc_to_join = gdf_dc_blocks[['Identifier', 'geometry']]"
   ]
  },
  {
   "cell_type": "code",
   "execution_count": 153,
   "id": "89a714cc",
   "metadata": {},
   "outputs": [],
   "source": [
    "gdf_dc_embeddings = gdf_dc_to_join.merge(block_df, on=\"Identifier\", how=\"left\")"
   ]
  },
  {
   "cell_type": "code",
   "execution_count": 157,
   "id": "65f149e3",
   "metadata": {},
   "outputs": [],
   "source": [
    "gdf_dc_embeddings.to_file(\"../results/gdf_embeddings_dc.geojson\")"
   ]
  },
  {
   "cell_type": "code",
   "execution_count": 151,
   "id": "84e88a3c",
   "metadata": {},
   "outputs": [],
   "source": [
    "block_df.to_csv(\"../results/model_results.csv\")"
   ]
  },
  {
   "cell_type": "code",
   "execution_count": null,
   "id": "4687aa05",
   "metadata": {},
   "outputs": [],
   "source": [
    "zip_embeddings"
   ]
  },
  {
   "cell_type": "markdown",
   "id": "f1d7641b",
   "metadata": {},
   "source": [
    "#### How well the Estimated KPIs are predicted by the embeddings?"
   ]
  },
  {
   "cell_type": "code",
   "execution_count": 159,
   "id": "168c2d13",
   "metadata": {},
   "outputs": [],
   "source": [
    "with open(\"../data/raw/ExistingPlotKPIs.json\", \"r\") as f:\n",
    "    kpi_data = json.load(f)"
   ]
  },
  {
   "cell_type": "code",
   "execution_count": 161,
   "id": "a92c4929",
   "metadata": {},
   "outputs": [],
   "source": [
    "kpi_df = pd.DataFrame(kpi_data)"
   ]
  },
  {
   "cell_type": "code",
   "execution_count": 162,
   "id": "cd956d77",
   "metadata": {},
   "outputs": [
    {
     "name": "stdout",
     "output_type": "stream",
     "text": [
      "Index(['Identifier', 'PLOT', 'Acres', 'E_Pop', 'E_Jobs', 'E_Du',\n",
      "       'E_Du_Affordable', 'E_Du_1', 'E_Du_2', 'E_Du_3', 'E_AccessJobs',\n",
      "       'E_AccessMedical', 'E_ReachableMedical', 'E_MedicalPerCapita',\n",
      "       'E_AccessGroceries', 'E_ReachableGroceries', 'E_GroceriesPerCapita',\n",
      "       'E_AccessPark', 'E_ReachableParkAcres', 'E_AccessMetro',\n",
      "       'E_HighFloodRisk', 'E_DispRisk', 'E_Waste', 'E_Water', 'E_Electricity',\n",
      "       'E_DevCap_Homes', 'E_DevCap_Jobs'],\n",
      "      dtype='object')\n",
      "                 Identifier  PLOT     Acres     E_Pop    E_Jobs  E_Du  \\\n",
      "0  Ward 3$0008021012$PAR0$0     0  8.053902  0.000000  0.000000     0   \n",
      "1  Ward 3$0008022011$PAR1$1     1  0.022496  0.249938  0.557074     3   \n",
      "2  Ward 3$0008022012$PAR2$2     2  0.062865  0.964676  0.857894     4   \n",
      "3  Ward 3$0008022010$PAR3$3     3  0.020196  0.000000  0.857894     0   \n",
      "4  Ward 3$0008022010$PAR4$4     4  0.167806  3.349384  0.857894     4   \n",
      "\n",
      "   E_Du_Affordable  E_Du_1  E_Du_2  E_Du_3  ...  E_AccessPark  \\\n",
      "0              0.0       0       0       0  ...      0.000000   \n",
      "1              0.0       0       1       2  ...      0.249938   \n",
      "2              0.0       0       2       2  ...      0.964676   \n",
      "3              0.0       0       0       0  ...      0.000000   \n",
      "4              0.0       0       0       4  ...      3.349384   \n",
      "\n",
      "   E_ReachableParkAcres  E_AccessMetro  E_HighFloodRisk  E_DispRisk  E_Waste  \\\n",
      "0              0.000000            0.0              0.0           0     0.00   \n",
      "1              0.000000            0.0              0.0           0    22.02   \n",
      "2             29.896520            0.0              0.0           0    29.36   \n",
      "3              0.000000            0.0              0.0           0     0.00   \n",
      "4             30.351613            0.0              0.0           0    29.36   \n",
      "\n",
      "   E_Water  E_Electricity  E_DevCap_Homes  E_DevCap_Jobs  \n",
      "0      0.0            0.0             0.0            0.0  \n",
      "1   1050.0           18.0             3.0            0.0  \n",
      "2   1400.0           24.0             4.0            0.0  \n",
      "3      0.0            0.0             0.0            0.0  \n",
      "4   1400.0           24.0             4.0            0.0  \n",
      "\n",
      "[5 rows x 27 columns]\n"
     ]
    }
   ],
   "source": [
    "print(kpi_df.columns)\n",
    "print(kpi_df.head())"
   ]
  },
  {
   "cell_type": "code",
   "execution_count": 163,
   "id": "290753f7",
   "metadata": {},
   "outputs": [
    {
     "data": {
      "text/plain": [
       "RangeIndex(start=0, stop=12209, step=1)"
      ]
     },
     "execution_count": 163,
     "metadata": {},
     "output_type": "execute_result"
    }
   ],
   "source": [
    "kpi_df.index"
   ]
  },
  {
   "cell_type": "code",
   "execution_count": 164,
   "id": "f41d3412",
   "metadata": {},
   "outputs": [
    {
     "data": {
      "text/plain": [
       "RangeIndex(start=0, stop=12209, step=1)"
      ]
     },
     "execution_count": 164,
     "metadata": {},
     "output_type": "execute_result"
    }
   ],
   "source": [
    "block_df.index"
   ]
  },
  {
   "cell_type": "code",
   "execution_count": 165,
   "id": "7d3fb72e",
   "metadata": {},
   "outputs": [],
   "source": [
    "kpi_df = kpi_df.rename(columns={'Identifier': 'Identifier_n'})\n",
    "merged_df = pd.concat([kpi_df, block_df], axis=1)\n"
   ]
  },
  {
   "cell_type": "code",
   "execution_count": null,
   "id": "604775aa",
   "metadata": {},
   "outputs": [],
   "source": [
    "merged_df"
   ]
  },
  {
   "cell_type": "code",
   "execution_count": null,
   "id": "1c3b1868",
   "metadata": {},
   "outputs": [],
   "source": [
    "kpi_cols_all = [col for col in merged_df.columns if col.startswith('E_')]\n",
    "\n",
    "# Columns to predict - only those with non-zero values in at least one row\n",
    "kpi_cols = [col for col in kpi_cols_all if merged_df[col].abs().sum() > 0]"
   ]
  },
  {
   "cell_type": "code",
   "execution_count": 168,
   "id": "4ae7453c",
   "metadata": {},
   "outputs": [],
   "source": [
    "embedding_cols = [col for col in merged_df.columns if col.startswith('feature')]\n"
   ]
  },
  {
   "cell_type": "markdown",
   "id": "d6ba1171",
   "metadata": {},
   "source": [
    "#### Ridge Prediction on each KPI using Embeddings"
   ]
  },
  {
   "cell_type": "code",
   "execution_count": 169,
   "id": "29ed92ab",
   "metadata": {},
   "outputs": [],
   "source": [
    "X = merged_df[embedding_cols].values\n",
    "Y = merged_df[kpi_cols]"
   ]
  },
  {
   "cell_type": "code",
   "execution_count": 170,
   "id": "8fc51677",
   "metadata": {},
   "outputs": [],
   "source": [
    "def evaluate_embedding_r2(X, Y, alpha=1.0):\n",
    "    model = Ridge(alpha=alpha)\n",
    "    results = []\n",
    "\n",
    "    for kpi in Y.columns:\n",
    "        y = Y[kpi].values\n",
    "        model.fit(X, y)\n",
    "        y_pred = model.predict(X)\n",
    "        r2 = r2_score(y, y_pred)\n",
    "        results.append({'KPI': kpi, 'R2': r2})\n",
    "\n",
    "    return pd.DataFrame(results).sort_values(by='R2', ascending=False).reset_index(drop=True)"
   ]
  },
  {
   "cell_type": "code",
   "execution_count": null,
   "id": "4de4bafd",
   "metadata": {},
   "outputs": [
    {
     "name": "stdout",
     "output_type": "stream",
     "text": [
      "                     KPI        R2\n",
      "0   E_GroceriesPerCapita  0.864923\n",
      "1   E_ReachableGroceries  0.832021\n",
      "2     E_ReachableMedical  0.826694\n",
      "3     E_MedicalPerCapita  0.731823\n",
      "4           E_AccessJobs  0.399920\n",
      "5          E_DevCap_Jobs  0.168399\n",
      "6          E_Electricity  0.144930\n",
      "7                 E_Jobs  0.125662\n",
      "8                E_Waste  0.111398\n",
      "9   E_ReachableParkAcres  0.105674\n",
      "10         E_AccessMetro  0.065128\n",
      "11               E_Water  0.036873\n",
      "12                E_Du_3  0.029369\n",
      "13     E_AccessGroceries  0.027733\n",
      "14       E_AccessMedical  0.027621\n",
      "15                 E_Pop  0.027482\n",
      "16          E_AccessPark  0.027480\n",
      "17        E_DevCap_Homes  0.018563\n",
      "18                  E_Du  0.018274\n",
      "19                E_Du_2  0.017310\n",
      "20                E_Du_1  0.016397\n",
      "21       E_HighFloodRisk  0.012996\n",
      "22       E_Du_Affordable  0.008373\n"
     ]
    }
   ],
   "source": [
    "r2_results = evaluate_embedding_r2(X, Y, alpha=1.0)\n",
    "print(r2_results)"
   ]
  },
  {
   "cell_type": "markdown",
   "id": "b16f9102",
   "metadata": {},
   "source": [
    "#### Poor R-squares for most variables - This is expected because of Graph Topology (which will eventually calibrate)"
   ]
  },
  {
   "cell_type": "code",
   "execution_count": 178,
   "id": "551ad656",
   "metadata": {},
   "outputs": [],
   "source": [
    "def best_alpha_per_kpi(X, Y, alphas=np.logspace(-4, 1, 20)):\n",
    "    results = []\n",
    "    \n",
    "    for kpi in Y.columns:\n",
    "        y = Y[kpi].values\n",
    "        best_r2 = -np.inf\n",
    "        best_alpha = None\n",
    "\n",
    "        for alpha in alphas:\n",
    "            model = Ridge(alpha=alpha)\n",
    "            try:\n",
    "                model.fit(X, y)\n",
    "                y_pred = model.predict(X)\n",
    "                r2 = r2_score(y, y_pred)\n",
    "                if r2 > best_r2:\n",
    "                    best_r2 = r2\n",
    "                    best_alpha = alpha\n",
    "            except Exception as e:\n",
    "                continue  # skip ill-conditioned cases silently\n",
    "\n",
    "        results.append({\n",
    "            'KPI': kpi,\n",
    "            'Best_R2': best_r2,\n",
    "            'Best_alpha': best_alpha\n",
    "        })\n",
    "\n",
    "    return pd.DataFrame(results).sort_values(by='Best_R2', ascending=False).reset_index(drop=True)"
   ]
  },
  {
   "cell_type": "code",
   "execution_count": null,
   "id": "0e86bde4",
   "metadata": {},
   "outputs": [],
   "source": [
    "X = merged_df[[col for col in merged_df.columns if col.startswith(\"feature\")]].values\n",
    "Y = merged_df[[col for col in merged_df.columns if col.startswith(\"E_\") and merged_df[col].abs().sum() > 0]]\n",
    "\n",
    "r2_per_kpi_df = best_alpha_per_kpi(X, Y)\n",
    "print(r2_per_kpi_df)"
   ]
  },
  {
   "cell_type": "code",
   "execution_count": 172,
   "id": "48931b36",
   "metadata": {},
   "outputs": [
    {
     "data": {
      "application/vnd.microsoft.datawrangler.viewer.v0+json": {
       "columns": [
        {
         "name": "index",
         "rawType": "object",
         "type": "string"
        },
        {
         "name": "mean",
         "rawType": "float64",
         "type": "float"
        },
        {
         "name": "std",
         "rawType": "float64",
         "type": "float"
        }
       ],
       "ref": "d7133c4a-4b31-4994-9156-354a3e74c09d",
       "rows": [
        [
         "E_Pop",
         "55.04783356540221",
         "134.18564854409385"
        ],
        [
         "E_Jobs",
         "53.811532476041606",
         "379.74326887247537"
        ],
        [
         "E_Du",
         "25.089851748709968",
         "93.53481964643046"
        ],
        [
         "E_Du_Affordable",
         "3.0400524203456465",
         "26.669662950336267"
        ],
        [
         "E_Du_1",
         "1.9306249488082563",
         "17.366359782860908"
        ],
        [
         "E_Du_2",
         "18.108772217216806",
         "86.98685403238133"
        ],
        [
         "E_Du_3",
         "5.050454582684905",
         "27.602167714049276"
        ],
        [
         "E_AccessJobs",
         "0.4307015713645179",
         "0.38102742537885387"
        ],
        [
         "E_AccessMedical",
         "54.444956188856054",
         "132.49123095990169"
        ],
        [
         "E_ReachableMedical",
         "0.19855502639424197",
         "0.05742114348365585"
        ],
        [
         "E_MedicalPerCapita",
         "0.19515643423943813",
         "0.08166108005633717"
        ],
        [
         "E_AccessGroceries",
         "54.34324214744557",
         "132.31060456524122"
        ],
        [
         "E_ReachableGroceries",
         "3.9416695378344992",
         "1.2126786920396355"
        ],
        [
         "E_GroceriesPerCapita",
         "4.1094872552736845",
         "1.6647716707540707"
        ],
        [
         "E_AccessPark",
         "32.30959538450914",
         "102.28328043243054"
        ],
        [
         "E_ReachableParkAcres",
         "10.054333310479974",
         "19.46640122467764"
        ],
        [
         "E_AccessMetro",
         "15.82932661156111",
         "84.23281312372247"
        ],
        [
         "E_HighFloodRisk",
         "9.002060612137342",
         "81.40595893451527"
        ],
        [
         "E_Waste",
         "453.2853028043518",
         "1636.1399563786617"
        ],
        [
         "E_Water",
         "8774.773930859894",
         "25760.405930163095"
        ],
        [
         "E_Electricity",
         "333.46403459529034",
         "1068.8981402381562"
        ],
        [
         "E_DevCap_Homes",
         "39.4393837031487",
         "190.90649007515555"
        ],
        [
         "E_DevCap_Jobs",
         "85.73396659404818",
         "446.06914737884733"
        ]
       ],
       "shape": {
        "columns": 2,
        "rows": 23
       }
      },
      "text/html": [
       "<div>\n",
       "<style scoped>\n",
       "    .dataframe tbody tr th:only-of-type {\n",
       "        vertical-align: middle;\n",
       "    }\n",
       "\n",
       "    .dataframe tbody tr th {\n",
       "        vertical-align: top;\n",
       "    }\n",
       "\n",
       "    .dataframe thead th {\n",
       "        text-align: right;\n",
       "    }\n",
       "</style>\n",
       "<table border=\"1\" class=\"dataframe\">\n",
       "  <thead>\n",
       "    <tr style=\"text-align: right;\">\n",
       "      <th></th>\n",
       "      <th>mean</th>\n",
       "      <th>std</th>\n",
       "    </tr>\n",
       "  </thead>\n",
       "  <tbody>\n",
       "    <tr>\n",
       "      <th>E_Pop</th>\n",
       "      <td>55.047834</td>\n",
       "      <td>134.185649</td>\n",
       "    </tr>\n",
       "    <tr>\n",
       "      <th>E_Jobs</th>\n",
       "      <td>53.811532</td>\n",
       "      <td>379.743269</td>\n",
       "    </tr>\n",
       "    <tr>\n",
       "      <th>E_Du</th>\n",
       "      <td>25.089852</td>\n",
       "      <td>93.534820</td>\n",
       "    </tr>\n",
       "    <tr>\n",
       "      <th>E_Du_Affordable</th>\n",
       "      <td>3.040052</td>\n",
       "      <td>26.669663</td>\n",
       "    </tr>\n",
       "    <tr>\n",
       "      <th>E_Du_1</th>\n",
       "      <td>1.930625</td>\n",
       "      <td>17.366360</td>\n",
       "    </tr>\n",
       "    <tr>\n",
       "      <th>E_Du_2</th>\n",
       "      <td>18.108772</td>\n",
       "      <td>86.986854</td>\n",
       "    </tr>\n",
       "    <tr>\n",
       "      <th>E_Du_3</th>\n",
       "      <td>5.050455</td>\n",
       "      <td>27.602168</td>\n",
       "    </tr>\n",
       "    <tr>\n",
       "      <th>E_AccessJobs</th>\n",
       "      <td>0.430702</td>\n",
       "      <td>0.381027</td>\n",
       "    </tr>\n",
       "    <tr>\n",
       "      <th>E_AccessMedical</th>\n",
       "      <td>54.444956</td>\n",
       "      <td>132.491231</td>\n",
       "    </tr>\n",
       "    <tr>\n",
       "      <th>E_ReachableMedical</th>\n",
       "      <td>0.198555</td>\n",
       "      <td>0.057421</td>\n",
       "    </tr>\n",
       "    <tr>\n",
       "      <th>E_MedicalPerCapita</th>\n",
       "      <td>0.195156</td>\n",
       "      <td>0.081661</td>\n",
       "    </tr>\n",
       "    <tr>\n",
       "      <th>E_AccessGroceries</th>\n",
       "      <td>54.343242</td>\n",
       "      <td>132.310605</td>\n",
       "    </tr>\n",
       "    <tr>\n",
       "      <th>E_ReachableGroceries</th>\n",
       "      <td>3.941670</td>\n",
       "      <td>1.212679</td>\n",
       "    </tr>\n",
       "    <tr>\n",
       "      <th>E_GroceriesPerCapita</th>\n",
       "      <td>4.109487</td>\n",
       "      <td>1.664772</td>\n",
       "    </tr>\n",
       "    <tr>\n",
       "      <th>E_AccessPark</th>\n",
       "      <td>32.309595</td>\n",
       "      <td>102.283280</td>\n",
       "    </tr>\n",
       "    <tr>\n",
       "      <th>E_ReachableParkAcres</th>\n",
       "      <td>10.054333</td>\n",
       "      <td>19.466401</td>\n",
       "    </tr>\n",
       "    <tr>\n",
       "      <th>E_AccessMetro</th>\n",
       "      <td>15.829327</td>\n",
       "      <td>84.232813</td>\n",
       "    </tr>\n",
       "    <tr>\n",
       "      <th>E_HighFloodRisk</th>\n",
       "      <td>9.002061</td>\n",
       "      <td>81.405959</td>\n",
       "    </tr>\n",
       "    <tr>\n",
       "      <th>E_Waste</th>\n",
       "      <td>453.285303</td>\n",
       "      <td>1636.139956</td>\n",
       "    </tr>\n",
       "    <tr>\n",
       "      <th>E_Water</th>\n",
       "      <td>8774.773931</td>\n",
       "      <td>25760.405930</td>\n",
       "    </tr>\n",
       "    <tr>\n",
       "      <th>E_Electricity</th>\n",
       "      <td>333.464035</td>\n",
       "      <td>1068.898140</td>\n",
       "    </tr>\n",
       "    <tr>\n",
       "      <th>E_DevCap_Homes</th>\n",
       "      <td>39.439384</td>\n",
       "      <td>190.906490</td>\n",
       "    </tr>\n",
       "    <tr>\n",
       "      <th>E_DevCap_Jobs</th>\n",
       "      <td>85.733967</td>\n",
       "      <td>446.069147</td>\n",
       "    </tr>\n",
       "  </tbody>\n",
       "</table>\n",
       "</div>"
      ],
      "text/plain": [
       "                             mean           std\n",
       "E_Pop                   55.047834    134.185649\n",
       "E_Jobs                  53.811532    379.743269\n",
       "E_Du                    25.089852     93.534820\n",
       "E_Du_Affordable          3.040052     26.669663\n",
       "E_Du_1                   1.930625     17.366360\n",
       "E_Du_2                  18.108772     86.986854\n",
       "E_Du_3                   5.050455     27.602168\n",
       "E_AccessJobs             0.430702      0.381027\n",
       "E_AccessMedical         54.444956    132.491231\n",
       "E_ReachableMedical       0.198555      0.057421\n",
       "E_MedicalPerCapita       0.195156      0.081661\n",
       "E_AccessGroceries       54.343242    132.310605\n",
       "E_ReachableGroceries     3.941670      1.212679\n",
       "E_GroceriesPerCapita     4.109487      1.664772\n",
       "E_AccessPark            32.309595    102.283280\n",
       "E_ReachableParkAcres    10.054333     19.466401\n",
       "E_AccessMetro           15.829327     84.232813\n",
       "E_HighFloodRisk          9.002061     81.405959\n",
       "E_Waste                453.285303   1636.139956\n",
       "E_Water               8774.773931  25760.405930\n",
       "E_Electricity          333.464035   1068.898140\n",
       "E_DevCap_Homes          39.439384    190.906490\n",
       "E_DevCap_Jobs           85.733967    446.069147"
      ]
     },
     "execution_count": 172,
     "metadata": {},
     "output_type": "execute_result"
    }
   ],
   "source": [
    "kpi_df[kpi_cols].describe().T[['mean', 'std']]"
   ]
  },
  {
   "cell_type": "markdown",
   "id": "c6866159",
   "metadata": {},
   "source": [
    "### Top 3 Similarity Ranking"
   ]
  },
  {
   "cell_type": "code",
   "execution_count": 181,
   "id": "44c17b29",
   "metadata": {},
   "outputs": [],
   "source": [
    "import numpy as np\n",
    "from sklearn.metrics.pairwise import cosine_similarity\n",
    "\n",
    "def get_top_zip_matches(block_df, zip_df, top_k=3):\n",
    "    # Extract feature matrix\n",
    "    block_features = block_df[[f'feature{i}' for i in range(330)]].values\n",
    "    zip_features = zip_df[[f'feature{i}' for i in range(330)]].values\n",
    "    \n",
    "    # Normalize for cosine similarity\n",
    "    block_norm = block_features / np.linalg.norm(block_features, axis=1, keepdims=True)\n",
    "    zip_norm = zip_features / np.linalg.norm(zip_features, axis=1, keepdims=True)\n",
    "    \n",
    "    # Compute cosine similarity matrix: [n_blocks, n_zips]\n",
    "    sim_matrix = cosine_similarity(block_norm, zip_norm)\n",
    "\n",
    "    # Get top k zip indices\n",
    "    top_indices = np.argsort(sim_matrix, axis=1)[:, -top_k:][:, ::-1]  # descending\n",
    "\n",
    "    # Map zip index back to zip_id (assumed to be the index of zip_df)\n",
    "    zip_ids = zip_df.index.to_numpy()\n",
    "    \n",
    "    # Assign top zip_ids\n",
    "    block_df['rank_1'] = zip_ids[top_indices[:, 0]]\n",
    "    block_df['rank_2'] = zip_ids[top_indices[:, 1]]\n",
    "    block_df['rank_3'] = zip_ids[top_indices[:, 2]]\n",
    "    \n",
    "    return block_df"
   ]
  },
  {
   "cell_type": "code",
   "execution_count": 182,
   "id": "fa750e75",
   "metadata": {},
   "outputs": [],
   "source": [
    "merged_df = get_top_zip_matches(merged_df, zip_embeddings)"
   ]
  },
  {
   "cell_type": "code",
   "execution_count": null,
   "id": "4bc432ab",
   "metadata": {},
   "outputs": [],
   "source": [
    "merged_df"
   ]
  },
  {
   "cell_type": "markdown",
   "id": "7b5d3d34",
   "metadata": {},
   "source": [
    "1. Get variables for each zip\n",
    "2. Use the variables for backprop the block embeddings\n",
    "3. Improve on KPI value"
   ]
  },
  {
   "cell_type": "code",
   "execution_count": 183,
   "id": "168accce",
   "metadata": {},
   "outputs": [],
   "source": [
    "merged_df = merged_df.merge(block_in_zip[['Identifier', 'place_zip']],on='Identifier',how='left')"
   ]
  },
  {
   "cell_type": "code",
   "execution_count": 185,
   "id": "9d7571bb",
   "metadata": {},
   "outputs": [
    {
     "data": {
      "text/plain": [
       "Index(['Identifier_n', 'PLOT', 'Acres', 'E_Pop', 'E_Jobs', 'E_Du',\n",
       "       'E_Du_Affordable', 'E_Du_1', 'E_Du_2', 'E_Du_3',\n",
       "       ...\n",
       "       'feature325', 'feature326', 'feature327', 'feature328', 'feature329',\n",
       "       'Identifier', 'rank_1', 'rank_2', 'rank_3', 'place_zip'],\n",
       "      dtype='object', length=362)"
      ]
     },
     "execution_count": 185,
     "metadata": {},
     "output_type": "execute_result"
    }
   ],
   "source": [
    "merged_df.keys()"
   ]
  },
  {
   "cell_type": "code",
   "execution_count": 187,
   "id": "43311a65",
   "metadata": {},
   "outputs": [],
   "source": [
    "embedding_cols = [col for col in merged_df.columns if col.startswith(\"feature\")]\n",
    "kpi_cols = [col for col in merged_df.columns if col.startswith(\"E_\") and merged_df[col].abs().sum() > 0]"
   ]
  },
  {
   "cell_type": "code",
   "execution_count": 242,
   "id": "4e8c6028",
   "metadata": {},
   "outputs": [],
   "source": [
    "X = merged_df[embedding_cols].values.astype(np.float32)\n",
    "Y = merged_df[kpi_cols].values.astype(np.float32)\n",
    "\n",
    "block_ids = merged_df['Identifier'].tolist()\n",
    "zip_ids = merged_df['place_zip'].tolist()\n",
    "\n",
    "# Map ZIPs to block indices\n",
    "zip_to_blocks = defaultdict(list)\n",
    "for i, zip_id in enumerate(zip_ids):\n",
    "    zip_to_blocks[zip_id].append(i)"
   ]
  },
  {
   "cell_type": "code",
   "execution_count": 243,
   "id": "6b63a268",
   "metadata": {},
   "outputs": [],
   "source": [
    "class KPIPredictor(nn.Module):\n",
    "    def __init__(self, in_dim, hidden_dim, out_dim):\n",
    "        super().__init__()\n",
    "        self.net = nn.Sequential(\n",
    "            nn.Linear(in_dim, hidden_dim),\n",
    "            nn.ReLU(),\n",
    "            nn.Linear(hidden_dim, out_dim)\n",
    "        )\n",
    "    def forward(self, x):\n",
    "        return self.net(x)"
   ]
  },
  {
   "cell_type": "code",
   "execution_count": 244,
   "id": "41009837",
   "metadata": {},
   "outputs": [
    {
     "name": "stdout",
     "output_type": "stream",
     "text": [
      "state: type=<class 'pandas.core.series.Series'>, shape=(32069,)\n"
     ]
    }
   ],
   "source": [
    "for k, v in zip_embeddings.items():\n",
    "    print(f\"{k}: type={type(v)}, shape={getattr(v, 'shape', None)}\")\n",
    "    break  # just show the first"
   ]
  },
  {
   "cell_type": "code",
   "execution_count": 245,
   "id": "adb1782e",
   "metadata": {},
   "outputs": [],
   "source": [
    "zip_embeddings['place_zip'] = zip_embeddings.index"
   ]
  },
  {
   "cell_type": "code",
   "execution_count": 246,
   "id": "65a383e5",
   "metadata": {},
   "outputs": [],
   "source": [
    "# 1. Get feature columns\n",
    "zip_feature_cols = [col for col in zip_embeddings.columns if 'feature' in col]\n",
    "\n",
    "# 2. Convert to float32 and handle NaNs\n",
    "zip_embeddings[zip_feature_cols] = zip_embeddings[zip_feature_cols].apply(\n",
    "    pd.to_numeric, errors='coerce'\n",
    ").astype(np.float32).fillna(0)\n",
    "\n",
    "# 3. Extract the cleaned matrix\n",
    "zip_feature_matrix = zip_embeddings[zip_feature_cols].values.astype(np.float32)"
   ]
  },
  {
   "cell_type": "code",
   "execution_count": 247,
   "id": "6eb7b2a8",
   "metadata": {},
   "outputs": [],
   "source": [
    "embedding_dim = X.shape[1]\n",
    "num_kpis = Y.shape[1]\n",
    "num_blocks = X.shape[0]\n",
    "device = torch.device(\"cuda\" if torch.cuda.is_available() else \"cpu\")\n",
    "\n",
    "block_embeddings = nn.Parameter(torch.tensor(X, device=device))\n",
    "true_kpis = torch.tensor(Y, device=device)\n",
    "\n",
    "zip_embeddings_tensor = {\n",
    "    f\"zip_{str(zip_embeddings.iloc[i]['place_zip']).strip()}\": torch.tensor(\n",
    "        zip_feature_matrix[i],\n",
    "        dtype=torch.float32,\n",
    "        device=device\n",
    "    )\n",
    "    for i in range(len(zip_embeddings))\n",
    "}\n",
    "\n",
    "model = KPIPredictor(embedding_dim, 128, num_kpis).to(device)\n",
    "optimizer = torch.optim.Adam(list(model.parameters()) + [block_embeddings], lr=1e-3)"
   ]
  },
  {
   "cell_type": "code",
   "execution_count": null,
   "id": "055ec840",
   "metadata": {},
   "outputs": [],
   "source": [
    "epochs = 30000\n",
    "beta = 0.1  # ZIP anchor loss weight\n",
    "losses = []\n",
    "\n",
    "for epoch in range(epochs):\n",
    "    optimizer.zero_grad()\n",
    "\n",
    "    preds = model(block_embeddings)\n",
    "    loss_kpi = F.mse_loss(preds, true_kpis)\n",
    "\n",
    "    # Anchor block embeddings to zip average\n",
    "    loss_zip = 0.0\n",
    "    for zip_id, block_idxs in zip_to_blocks.items():\n",
    "        if zip_id not in zip_embeddings_tensor:\n",
    "            continue\n",
    "        block_idx_tensor = torch.tensor(block_idxs, device=device)\n",
    "        e_zip = zip_embeddings_tensor[zip_id]\n",
    "        e_block_mean = block_embeddings[block_idx_tensor].mean(dim=0)\n",
    "        loss_zip += F.mse_loss(e_block_mean, e_zip)\n",
    "\n",
    "    loss_total = loss_kpi + beta * loss_zip\n",
    "    loss_total.backward()\n",
    "    optimizer.step()\n",
    "\n",
    "    losses.append(loss_total.item())\n",
    "    if epoch % 10 == 0:\n",
    "        print(f\"Epoch {epoch} | Total Loss: {loss_total.item():.4f}\")"
   ]
  },
  {
   "cell_type": "code",
   "execution_count": 249,
   "id": "dc6b858c",
   "metadata": {},
   "outputs": [
    {
     "data": {
      "image/png": "[encoded data removed]",
      "text/plain": [
       "<Figure size 640x480 with 1 Axes>"
      ]
     },
     "metadata": {},
     "output_type": "display_data"
    }
   ],
   "source": [
    "plt.plot(losses)\n",
    "plt.title(\"Constrained Optimization - Anchored Block Embedding Training Loss - Final Convergance\")\n",
    "plt.xlabel(\"Epoch\")\n",
    "plt.ylabel(\"Loss\")\n",
    "plt.grid(True)\n",
    "plt.show()"
   ]
  },
  {
   "cell_type": "code",
   "execution_count": null,
   "id": "4f4654d3",
   "metadata": {},
   "outputs": [],
   "source": [
    "# loss_table = []  # to store epoch-wise values"
   ]
  },
  {
   "cell_type": "code",
   "execution_count": null,
   "id": "e0c88d1f",
   "metadata": {},
   "outputs": [],
   "source": [
    "# loss_table = []\n",
    "# kpi_loss_curves = {kpi: [] for kpi in kpi_cols}\n",
    "\n",
    "# for epoch in range(epochs):\n",
    "#     optimizer.zero_grad()\n",
    "\n",
    "#     preds = model(block_embeddings)\n",
    "#     loss_kpi_total = F.mse_loss(preds, true_kpis)\n",
    "\n",
    "#     # Anchor loss to ZIP-level embeddings\n",
    "#     loss_zip = 0.0\n",
    "#     for zip_id, block_idxs in zip_to_blocks.items():\n",
    "#         if zip_id not in zip_embeddings_tensor:\n",
    "#             continue\n",
    "#         block_idx_tensor = torch.tensor(block_idxs, device=device)\n",
    "#         e_zip = zip_embeddings_tensor[zip_id]\n",
    "#         e_block_mean = block_embeddings[block_idx_tensor].mean(dim=0)\n",
    "#         loss_zip += F.mse_loss(e_block_mean, e_zip)\n",
    "\n",
    "#     loss_total = loss_kpi_total + beta * loss_zip\n",
    "#     loss_total.backward()\n",
    "#     optimizer.step()\n",
    "\n",
    "#     # Every 10 epochs: log losses and KPI-specific components\n",
    "#     if epoch % 10 == 0:\n",
    "#         # Save total + component losses\n",
    "#         loss_table.append({\n",
    "#             'epoch': epoch,\n",
    "#             'total_loss': loss_total.item(),\n",
    "#             'kpi_loss': loss_kpi_total.item(),\n",
    "#             'zip_loss': float(loss_zip)\n",
    "#         })\n",
    "\n",
    "#         # Compute per-KPI loss breakdown\n",
    "#         loss_kpi_components = F.mse_loss(preds, true_kpis, reduction='none')  # [N, num_kpis]\n",
    "#         per_kpi_mse = loss_kpi_components.mean(dim=0)  # [num_kpis]\n",
    "#         for i, kpi in enumerate(kpi_cols):\n",
    "#             kpi_loss_curves[kpi].append(per_kpi_mse[i].item())\n",
    "\n"
   ]
  },
  {
   "cell_type": "code",
   "execution_count": null,
   "id": "29215016",
   "metadata": {},
   "outputs": [],
   "source": [
    "# loss_df = pd.DataFrame(loss_table)"
   ]
  },
  {
   "cell_type": "code",
   "execution_count": null,
   "id": "9e063b7e",
   "metadata": {},
   "outputs": [
    {
     "data": {
      "image/png": "[encoded data removed]",
      "text/plain": [
       "<Figure size 640x480 with 1 Axes>"
      ]
     },
     "metadata": {},
     "output_type": "display_data"
    }
   ],
   "source": [
    "# plt.plot(loss_df['epoch'], loss_df['total_loss'], label='Total Loss')\n",
    "# plt.plot(loss_df['epoch'], loss_df['kpi_loss'], label='KPI Loss')\n",
    "# plt.plot(loss_df['epoch'], loss_df['zip_loss'], label='ZIP Anchor Loss')\n",
    "# plt.xlabel('Epoch')\n",
    "# plt.ylabel('Loss')\n",
    "# plt.title('Loss Components Over Time')\n",
    "# plt.legend()\n",
    "# plt.grid(True)\n",
    "# plt.tight_layout()\n",
    "# plt.show()"
   ]
  },
  {
   "cell_type": "code",
   "execution_count": null,
   "id": "1dcda935",
   "metadata": {},
   "outputs": [
    {
     "data": {
      "image/png": "[encoded data removed]",
      "text/plain": [
       "<Figure size 1400x600 with 1 Axes>"
      ]
     },
     "metadata": {},
     "output_type": "display_data"
    }
   ],
   "source": [
    "# # X-axis: matching every 10 epochs\n",
    "# epoch_ticks = loss_df['epoch']\n",
    "\n",
    "# # Create the plot\n",
    "# plt.figure(figsize=(14, 6))\n",
    "# for kpi, losses in kpi_loss_curves.items():\n",
    "#     plt.plot(epoch_ticks, losses, label=kpi)\n",
    "\n",
    "# plt.xlabel('Epoch')\n",
    "# plt.ylabel('MSE Loss')\n",
    "# plt.title('Per-KPI Loss Over Time')\n",
    "# plt.legend(fontsize='small', bbox_to_anchor=(1.01, 1), loc='upper left')\n",
    "# plt.grid(True)\n",
    "# plt.tight_layout()\n",
    "# plt.show()"
   ]
  },
  {
   "cell_type": "code",
   "execution_count": null,
   "id": "3931fa2b",
   "metadata": {},
   "outputs": [],
   "source": [
    "updated_block_embeddings = block_embeddings.detach().cpu().numpy()\n",
    "updated_df = merged_df.copy()\n",
    "for i in range(embedding_dim):\n",
    "    updated_df[f'updated_embedding_{i}'] = updated_block_embeddings[:, i]"
   ]
  },
  {
   "cell_type": "code",
   "execution_count": 251,
   "id": "9aa23de5",
   "metadata": {},
   "outputs": [
    {
     "data": {
      "text/plain": [
       "array([[ 0.04225666, -0.10423054,  0.39092058, ..., -0.3402576 ,\n",
       "         0.1346975 ,  0.20447032],\n",
       "       [ 0.00343331, -0.13683206,  0.4608395 , ..., -0.2790577 ,\n",
       "         0.13994166,  0.17371875],\n",
       "       [-0.01392414, -0.16262893,  0.46519694, ..., -0.26885924,\n",
       "         0.17040792,  0.22354645],\n",
       "       ...,\n",
       "       [-0.211209  , -0.31198317, -0.12731743, ...,  0.57335377,\n",
       "        -0.2403502 ,  0.13924643],\n",
       "       [-0.00058582, -0.16998641,  0.49048594, ..., -0.19118042,\n",
       "         0.17919637,  0.14919883],\n",
       "       [-0.36161628, -0.08610445,  0.51095915, ..., -0.08726858,\n",
       "         0.2011832 , -0.37856245]], dtype=float32)"
      ]
     },
     "execution_count": 251,
     "metadata": {},
     "output_type": "execute_result"
    }
   ],
   "source": [
    "updated_block_embeddings"
   ]
  },
  {
   "cell_type": "code",
   "execution_count": null,
   "id": "98178bfb",
   "metadata": {},
   "outputs": [],
   "source": []
  },
  {
   "cell_type": "code",
   "execution_count": 252,
   "id": "ca1bcd9e",
   "metadata": {},
   "outputs": [],
   "source": [
    "# 1. Convert to DataFrame\n",
    "embedding_df = pd.DataFrame(updated_block_embeddings)\n",
    "\n",
    "# 2. Rename columns to 'feature0', 'feature1', ...\n",
    "embedding_df.columns = [f'feature{i}' for i in range(embedding_df.shape[1])]\n",
    "\n",
    "# 3. Concat with KPI DataFrame (assumes index alignment)\n",
    "kpi_with_embeddings = pd.concat([kpi_df.reset_index(drop=True), embedding_df], axis=1)"
   ]
  },
  {
   "cell_type": "code",
   "execution_count": null,
   "id": "b51e81f4",
   "metadata": {},
   "outputs": [],
   "source": [
    "kpi_with_embeddings"
   ]
  },
  {
   "cell_type": "code",
   "execution_count": 254,
   "id": "a4ef5ce8",
   "metadata": {},
   "outputs": [],
   "source": [
    "X = kpi_with_embeddings[embedding_cols].values\n",
    "Y = kpi_with_embeddings[kpi_cols]"
   ]
  },
  {
   "cell_type": "code",
   "execution_count": 255,
   "id": "bb18bd87",
   "metadata": {},
   "outputs": [],
   "source": [
    "combined_df = kpi_with_embeddings[embedding_cols + kpi_cols].dropna()\n",
    "\n",
    "# Split again\n",
    "X = combined_df[embedding_cols].values\n",
    "Y = combined_df[kpi_cols]"
   ]
  },
  {
   "cell_type": "code",
   "execution_count": 258,
   "id": "42f8be14",
   "metadata": {},
   "outputs": [
    {
     "name": "stdout",
     "output_type": "stream",
     "text": [
      "                     KPI        R2\n",
      "0   E_GroceriesPerCapita  0.878420\n",
      "1   E_ReachableGroceries  0.839121\n",
      "2     E_ReachableMedical  0.832358\n",
      "3     E_MedicalPerCapita  0.732888\n",
      "4          E_DevCap_Jobs  0.643386\n",
      "5          E_Electricity  0.530346\n",
      "6   E_ReachableParkAcres  0.525388\n",
      "7                E_Waste  0.474243\n",
      "8                 E_Jobs  0.472853\n",
      "9           E_AccessJobs  0.460366\n",
      "10         E_AccessMetro  0.371854\n",
      "11       E_HighFloodRisk  0.232962\n",
      "12                 E_Pop  0.206519\n",
      "13               E_Water  0.204991\n",
      "14                E_Du_3  0.193244\n",
      "15                E_Du_1  0.191979\n",
      "16       E_AccessMedical  0.187812\n",
      "17     E_AccessGroceries  0.187009\n",
      "18          E_AccessPark  0.164381\n",
      "19        E_DevCap_Homes  0.164271\n",
      "20                  E_Du  0.134005\n",
      "21                E_Du_2  0.123939\n",
      "22       E_Du_Affordable  0.055207\n"
     ]
    }
   ],
   "source": [
    "r2_results = evaluate_embedding_r2(X, Y, alpha=0.5)\n",
    "print(r2_results)"
   ]
  },
  {
   "cell_type": "code",
   "execution_count": 237,
   "id": "1c0b79ef",
   "metadata": {},
   "outputs": [
    {
     "name": "stdout",
     "output_type": "stream",
     "text": [
      "                     KPI        R2\n",
      "0   E_GroceriesPerCapita  0.851442\n",
      "1     E_ReachableMedical  0.816975\n",
      "2   E_ReachableGroceries  0.813935\n",
      "3     E_MedicalPerCapita  0.723563\n",
      "4          E_DevCap_Jobs  0.583752\n",
      "5          E_Electricity  0.488665\n",
      "6                E_Waste  0.442773\n",
      "7           E_AccessJobs  0.422929\n",
      "8   E_ReachableParkAcres  0.306485\n",
      "9                 E_Jobs  0.288077\n",
      "10         E_AccessMetro  0.217685\n",
      "11               E_Water  0.175669\n",
      "12       E_HighFloodRisk  0.134674\n",
      "13                 E_Pop  0.132150\n",
      "14       E_AccessMedical  0.131283\n",
      "15     E_AccessGroceries  0.130006\n",
      "16                  E_Du  0.103846\n",
      "17        E_DevCap_Homes  0.097558\n",
      "18          E_AccessPark  0.092866\n",
      "19                E_Du_2  0.082394\n",
      "20                E_Du_3  0.067637\n",
      "21                E_Du_1  0.028837\n",
      "22       E_Du_Affordable  0.023671\n"
     ]
    }
   ],
   "source": [
    "r2_results = evaluate_embedding_r2(X, Y, alpha=1.0)\n",
    "print(r2_results)"
   ]
  },
  {
   "cell_type": "code",
   "execution_count": 238,
   "id": "22cd2122",
   "metadata": {},
   "outputs": [
    {
     "name": "stdout",
     "output_type": "stream",
     "text": [
      "Before: 12212 rows\n",
      "After dropna: 12209 rows\n"
     ]
    }
   ],
   "source": [
    "print(f\"Before: {len(kpi_with_embeddings)} rows\")\n",
    "print(f\"After dropna: {len(combined_df)} rows\")"
   ]
  },
  {
   "cell_type": "code",
   "execution_count": null,
   "id": "afd931b8",
   "metadata": {},
   "outputs": [],
   "source": []
  }
 ],
 "metadata": {
  "kernelspec": {
   "display_name": "dc_op_kpi",
   "language": "python",
   "name": "python3"
  },
  "language_info": {
   "codemirror_mode": {
    "name": "ipython",
    "version": 3
   },
   "file_extension": ".py",
   "mimetype": "text/x-python",
   "name": "python",
   "nbconvert_exporter": "python",
   "pygments_lexer": "ipython3",
   "version": "3.11.9"
  }
 },
 "nbformat": 4,
 "nbformat_minor": 5
}
